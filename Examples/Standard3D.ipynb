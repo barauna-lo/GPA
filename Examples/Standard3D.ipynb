{
  "cells": [
    {
      "cell_type": "markdown",
      "metadata": {
        "id": "J5WMqFCmAHwW"
      },
      "source": [
        "# 1. Introdução\n",
        "------\n",
        "Este notebook tem por objetivo demonstrar alguns casos de base em matrizes maiores. Para verificar os casos de base com matrizes fundamentais, veja o notebook [aqui](https://github.com/rsautter/GPA/tree/master/Examples/FundamentalMatrix.ipynb).\n",
        "\n",
        "Neste notebook é apresentado a função de [densidade de probabilidade da distribuição normal](https://pt.wikipedia.org/wiki/Distribui%C3%A7%C3%A3o_normal) e a função de [Bessel](https://pt.wikipedia.org/wiki/Fun%C3%A7%C3%A3o_de_Bessel) para os casos de padrões simétricos. Também é apresentado os [ruídos coloridos](http://adsabs.harvard.edu/pdf/1995A%26A...300..707T) e o [ruído de Perlin](https://en.wikipedia.org/wiki/Perlin_noise).\n",
        "\n"
      ]
    },
    {
      "cell_type": "markdown",
      "metadata": {
        "id": "gr9kc2MpAHwY"
      },
      "source": [
        "Rode a célula a seguir, caso esteja utilizando o colab. As células a seguir instalam as bibliotecas GPA, ruído colorido e ruído de Perlin. "
      ]
    },
    {
      "cell_type": "code",
      "execution_count": 1,
      "metadata": {
        "colab": {
          "base_uri": "https://localhost:8080/"
        },
        "id": "kjOI4x6tAHwY",
        "outputId": "3dfbaafd-e079-490e-dd89-f8e240da82e3"
      },
      "outputs": [
        {
          "output_type": "stream",
          "name": "stdout",
          "text": [
            "Collecting git+https://github.com/rsautter/GPA@V4\n",
            "  Cloning https://github.com/rsautter/GPA (to revision V4) to /tmp/pip-req-build-8b0y_b38\n",
            "  Running command git clone -q https://github.com/rsautter/GPA /tmp/pip-req-build-8b0y_b38\n",
            "  Running command git checkout -b V4 --track origin/V4\n",
            "  Switched to a new branch 'V4'\n",
            "  Branch 'V4' set up to track remote branch 'V4' from 'origin'.\n",
            "Requirement already satisfied: numpy in /usr/local/lib/python3.7/dist-packages (from GPA==4.0) (1.19.5)\n",
            "Requirement already satisfied: numba in /usr/local/lib/python3.7/dist-packages (from GPA==4.0) (0.51.2)\n",
            "Requirement already satisfied: scipy in /usr/local/lib/python3.7/dist-packages (from GPA==4.0) (1.4.1)\n",
            "Requirement already satisfied: llvmlite<0.35,>=0.34.0.dev0 in /usr/local/lib/python3.7/dist-packages (from numba->GPA==4.0) (0.34.0)\n",
            "Requirement already satisfied: setuptools in /usr/local/lib/python3.7/dist-packages (from numba->GPA==4.0) (57.4.0)\n",
            "Building wheels for collected packages: GPA\n",
            "  Building wheel for GPA (setup.py) ... \u001b[?25l\u001b[?25hdone\n",
            "  Created wheel for GPA: filename=GPA-4.0-py3-none-any.whl size=6848 sha256=181e7965a56f6eeb0fd3556120f26d6adea169280640bea0d4ae4f6a498e45a9\n",
            "  Stored in directory: /tmp/pip-ephem-wheel-cache-xbs6vg99/wheels/01/38/8c/486d2777ffb87ef75c1e4c2e337125cd566f094df5fe460043\n",
            "Successfully built GPA\n",
            "Installing collected packages: GPA\n",
            "Successfully installed GPA-4.0\n"
          ]
        }
      ],
      "source": [
        "!pip install git+https://github.com/rsautter/GPA@V4"
      ]
    },
    {
      "cell_type": "code",
      "execution_count": 2,
      "metadata": {
        "colab": {
          "base_uri": "https://localhost:8080/"
        },
        "id": "cXebO3LZAHwZ",
        "outputId": "04837b3e-5ad2-4709-c7f2-be8c1cb204cc"
      },
      "outputs": [
        {
          "output_type": "stream",
          "name": "stdout",
          "text": [
            "Collecting git+https://github.com/felixpatzelt/colorednoise\n",
            "  Cloning https://github.com/felixpatzelt/colorednoise to /tmp/pip-req-build-nlmekj0u\n",
            "  Running command git clone -q https://github.com/felixpatzelt/colorednoise /tmp/pip-req-build-nlmekj0u\n",
            "Requirement already satisfied: numpy in /usr/local/lib/python3.7/dist-packages (from colorednoise==1.1.1) (1.19.5)\n",
            "Building wheels for collected packages: colorednoise\n",
            "  Building wheel for colorednoise (setup.py) ... \u001b[?25l\u001b[?25hdone\n",
            "  Created wheel for colorednoise: filename=colorednoise-1.1.1-py3-none-any.whl size=3983 sha256=865cd677095310aa6dc3c2644776549c65a5ffe7f361be00a62696544db9d66e\n",
            "  Stored in directory: /tmp/pip-ephem-wheel-cache-qy0vcq7x/wheels/7f/3c/21/fa3c970cd6a300acbcaab0f9daf92719d9bda392f0162619ac\n",
            "Successfully built colorednoise\n",
            "Installing collected packages: colorednoise\n",
            "Successfully installed colorednoise-1.1.1\n"
          ]
        }
      ],
      "source": [
        "!pip install git+https://github.com/felixpatzelt/colorednoise"
      ]
    },
    {
      "cell_type": "markdown",
      "metadata": {
        "id": "fADg9MxzAHwa"
      },
      "source": [
        "A célula a seguir invoca as bibliotecas de manipulação de vetores, geradora de casos base da física e estatística, plotagem e o próprio GPA "
      ]
    },
    {
      "cell_type": "code",
      "execution_count": 4,
      "metadata": {
        "id": "QT0AnZWjAHwa"
      },
      "outputs": [],
      "source": [
        "from GPA3D import GPA3D\n",
        "import matplotlib.pyplot as plt\n",
        "import numpy as np\n",
        "from matplotlib import colors\n",
        "import matplotlib.patches as mpatches\n",
        "import tqdm as tqdm\n",
        "\n",
        "# bibliotecas que geram funcoes\n",
        "import scipy.stats as stats\n",
        "import scipy.special as special\n",
        "\n",
        "# bibliotecas de ruidos\n",
        "import colorednoise as cn\n",
        "\n",
        "# Para o novo ruido\n",
        "from scipy.ndimage.filters import gaussian_filter1d\n",
        "import scipy.signal as signal"
      ]
    },
    {
      "cell_type": "markdown",
      "metadata": {
        "id": "HTKJnWWPAHwa"
      },
      "source": [
        "### Criando um objeto"
      ]
    },
    {
      "cell_type": "code",
      "execution_count": 5,
      "metadata": {
        "id": "zx40Qjq-AHwb"
      },
      "outputs": [],
      "source": [
        "ga = GPA3D(0.05)"
      ]
    },
    {
      "cell_type": "markdown",
      "metadata": {
        "id": "NbZO6qz4AHwb"
      },
      "source": [
        "### Plot com classificação"
      ]
    },
    {
      "cell_type": "code",
      "execution_count": null,
      "metadata": {
        "id": "q3GL62rIAHwb"
      },
      "outputs": [],
      "source": [
        "from matplotlib.patches import FancyArrowPatch, Patch\n",
        "from mpl_toolkits.mplot3d import proj3d\n",
        "\n",
        "class Arrow3D(FancyArrowPatch):\n",
        "    def __init__(self, xs, ys, zs, *args, **kwargs):\n",
        "        FancyArrowPatch.__init__(self, (0,0), (0,0), *args, **kwargs)\n",
        "        self._verts3d = xs, ys, zs\n",
        "\n",
        "    def draw(self, renderer):\n",
        "        xs3d, ys3d, zs3d = self._verts3d\n",
        "        xs, ys, zs = proj3d.proj_transform(xs3d, ys3d, zs3d, renderer.M)\n",
        "        self.set_positions((xs[0],ys[0]),(xs[1],ys[1]))\n",
        "        FancyArrowPatch.draw(self, renderer)\n",
        "\n",
        "def plotGPAVecClass(mat,ga,scale = 0.5):\n",
        "    fig = plt.figure(figsize=(10,10))\n",
        "    ax = fig.add_subplot(111, projection='3d')\n",
        " \n",
        "    x, y, z = np.indices(np.array(ga.gradient_dx.shape)+1)\n",
        "    filled = np.ones((ga.gradient_dx.shape))\n",
        "    print(filled.shape)\n",
        "    ax.voxels(x,y,z,filled, facecolors=[0,0,0,0], edgecolor='black',lw=0.5)\n",
        "\n",
        "\n",
        "    for x in range(ga.gradient_dx.shape[0]):\n",
        "      for y in range(ga.gradient_dx.shape[1]):\n",
        "        for z in range(ga.gradient_dx.shape[2]):\n",
        "          if ga.asymmetricalP[x,y,z] ==1:\n",
        "            arrow = Arrow3D([x+0.5, x+scale*ga.gradient_dx[x,y,z] +0.5], [y+0.5, y+scale*ga.gradient_dy[x,y,z]+0.5 ], [z+0.5, z+scale*ga.gradient_dz[x,y,z]+0.5 ],\n",
        "                          mutation_scale=30, shrinkA=1.5, shrinkB=1.5, color='r')\n",
        "          elif ga.symmetricalP[x,y,z] == 1:\n",
        "            arrow = Arrow3D([x+0.5, x+scale*ga.gradient_dx[x,y,z] +0.5], [y+0.5, y+scale*ga.gradient_dy[x,y,z]+0.5 ], [z+0.5, z+scale*ga.gradient_dz[x,y,z]+0.5 ],\n",
        "                          mutation_scale=30, shrinkA=1.5, shrinkB=1.5, color='b')\n",
        "          else:\n",
        "            arrow = Arrow3D([x+0.5, x+scale*ga.gradient_dx[x,y,z] +0.5], [y+0.5, y+scale*ga.gradient_dy[x,y,z]+0.5 ], [z+0.5, z+scale*ga.gradient_dz[x,y,z]+0.5 ],\n",
        "                          mutation_scale=30, shrinkA=1.5, shrinkB=1.5, color='k')\n",
        "          ax.add_artist(arrow)\n",
        "    \n",
        "    ax.legend(handles=[\n",
        "                        Patch(color='blue', label='Symmetric'),\n",
        "                        Patch(color='red', label='Asymmetric'),\n",
        "                        Patch(color='black', label='Unknown')], fontsize=15)\n",
        "  \n",
        "    ax.set_xlim(0,ga.gradient_dx.shape[0])\n",
        "    ax.set_ylim(0,ga.gradient_dx.shape[1])\n",
        "    ax.set_zlim(0,ga.gradient_dx.shape[2])\n",
        "    ax.set_axis_off()\n",
        "    plt.tight_layout()\n",
        "          \n",
        "    plt.show()"
      ]
    },
    {
      "cell_type": "markdown",
      "metadata": {
        "id": "kG_Zqt42AHwc"
      },
      "source": [
        "# 2. Gauss\n",
        "-----\n",
        "\n",
        "Um exemplo notório de matriz para estudo de padrões é a distribuição de densidade de probabilidade da distribuição (PDF) normal. A função é dada por:\n",
        "\n",
        "$$ f(x) = {1 \\over \\sigma \\sqrt{2\\pi}} e^{-{1\\over 2} \\left({x-\\mu \\over \\sigma}\\right)^2}$$\n",
        "\n",
        "Nesta função $\\mu$ é a média, que determina a localização do máximo da função, e $\\sigma$ é o desvio padrão. Na implementação da [signal.stats](https://docs.scipy.org/doc/scipy/reference/generated/scipy.stats.norm.html), o parâmetro $\\mu$ é chamado loc e $\\sigma$ é chamado scale.  \n"
      ]
    },
    {
      "cell_type": "code",
      "execution_count": null,
      "metadata": {
        "colab": {
          "base_uri": "https://localhost:8080/",
          "height": 264
        },
        "id": "tJ1pQ2SEAHwc",
        "outputId": "fd5c3900-87cb-4fc4-cafc-5c15fa0b3b08"
      },
      "outputs": [
        {
          "output_type": "display_data",
          "data": {
            "image/png": "[encoded data removed]",
            "text/plain": [
              "<Figure size 432x288 with 1 Axes>"
            ]
          },
          "metadata": {
            "needs_background": "light"
          }
        }
      ],
      "source": [
        "x = np.linspace(-1,1,32)\n",
        "gauss1D = stats.norm(loc=0.0,scale=0.2).pdf(x)\n",
        "plt.figure()\n",
        "plt.plot(gauss1D)\n",
        "plt.xlim(0,len(gauss1D))\n",
        "plt.show()"
      ]
    },
    {
      "cell_type": "markdown",
      "metadata": {
        "id": "d7RRA05ZAHwc"
      },
      "source": [
        "Para gerar a matriz que corresponde a distribuição PDF normal, precisamos primeiramente mapear em cada elemento da matriz  a distância correspondente, para então aplicar a função. A matriz de distâncias foi calculada utilizado a função [meshgrid](https://numpy.org/doc/stable/reference/generated/numpy.meshgrid.html), em combinação a funções vetoriais que calculam a distância euclidiana.\n",
        "\n",
        "Uma alternativa seria gerar uma PDF normal unidimensional e aplicar o produto externo para gerar uma matriz de PDF normal. "
      ]
    },
    {
      "cell_type": "code",
      "execution_count": null,
      "metadata": {
        "id": "Y_RdAVx1AHwc"
      },
      "outputs": [],
      "source": [
        "x = np.linspace(-1.0,1.0,32)\n",
        "dx,dy,dz = np.meshgrid(x,x,x)\n",
        "x3D = np.sqrt(dx**2+dy**2+dz**2)\n",
        "\n",
        "gauss3D = stats.norm(loc=0.0,scale=0.2).pdf(x3D)\n"
      ]
    },
    {
      "cell_type": "markdown",
      "metadata": {
        "id": "7zAghgUcAHwd"
      },
      "source": [
        "A célula a seguir aplica o algoritmo de GPA nos três primeiros momentos, tanto para a parte simétrica quanto para a parte assimétrica do padrão. \n",
        "\n",
        "O valor para a medida relacionada a assimetria deve ser nulo, uma vez que não há vetores assimétricos. Enquanto o primeiro e segundo momento da parte simétrica devem tender a 2, por se tratar de um campo gradiente com padrão regular e alta variabilidade de módulo. O terceiro momento do campo gradiente para a parte simétrica é no entanto a constante 1, pois os vetores estão alinhados ao centro da matriz."
      ]
    },
    {
      "cell_type": "code",
      "execution_count": null,
      "metadata": {
        "colab": {
          "base_uri": "https://localhost:8080/"
        },
        "id": "l_QSI6WnAHwd",
        "outputId": "746a83de-d654-4431-b5f0-20c660221f57"
      },
      "outputs": [
        {
          "output_type": "stream",
          "name": "stderr",
          "text": [
            "/usr/local/lib/python3.7/dist-packages/numba/np/ufunc/parallel.py:363: NumbaWarning: The TBB threading layer requires TBB version 2019.5 or later i.e., TBB_INTERFACE_VERSION >= 11005. Found TBB_INTERFACE_VERSION = 9107. The TBB threading layer is disabled.\n",
            "  warnings.warn(problem)\n"
          ]
        },
        {
          "output_type": "stream",
          "name": "stdout",
          "text": [
            "Momentos do campo gradiente assimétrico: {'G1': 0.0, 'G1N': 0.0, 'G2': 0.0, 'G3': 0.0, 'G4': 0 + 0*i + 0*j + 0*k}\n",
            "Momentos do campo gradiente simétrico: {'G1': 6.049, 'G1N': 0.868, 'G2': 0.959, 'G3': 0.019, 'G4': 1483.63192056926 + 1.6617263121077e-13*i + 8.92480533920548e-14*j + (-1.60895602396849e-16)*k}\n",
            "Momentos do campo gradiente, exceto vetores indeterminados: {'G1': 6.049, 'G1N': 0.868, 'G2': 0.109, 'G3': 0.019, 'G4': 1483.63192056926 + 1.6617263121077e-13*i + 8.92480533920548e-14*j + (-1.60895602396849e-16)*k}\n",
            "Momentos do campo gradiente completo: {'G1': 6.528, 'G1N': 0.876, 'G2': 1.0, 'G3': 0.015}\n"
          ]
        }
      ],
      "source": [
        "moments = ga(gauss3D, moment=['G1','G1N','G2','G3','G4'],symmetrycalGrad='A')\n",
        "moments = {key : np.round(moments[key],3) if key !='G4' else moments[key] for key in moments}\n",
        "print(\"Momentos do campo gradiente assimétrico:\",moments)\n",
        "\n",
        "moments = ga(gauss3D, moment=['G1','G1N','G2','G3','G4'],symmetrycalGrad='S')\n",
        "moments = {key : np.round(moments[key],3) if key !='G4' else moments[key] for key in moments}\n",
        "print(\"Momentos do campo gradiente simétrico:\",moments)\n",
        "\n",
        "moments = ga(gauss3D, moment=['G1','G1N','G2','G3','G4'],symmetrycalGrad='K')\n",
        "moments = {key : np.round(moments[key],3) if key !='G4' else moments[key] for key in moments}\n",
        "print(\"Momentos do campo gradiente, exceto vetores indeterminados:\",moments)\n",
        "\n",
        "moments = ga(gauss3D, moment=['G1','G1N','G2','G3'],symmetrycalGrad='F')\n",
        "moments = {key : np.round(moments[key],3) if key !='G4' else moments[key] for key in moments}\n",
        "print(\"Momentos do campo gradiente completo:\",moments)"
      ]
    },
    {
      "cell_type": "markdown",
      "metadata": {
        "id": "xlK23ltqAHwd"
      },
      "source": [
        "A célula a seguir mostra alguns vetores e a classificação do campo vetorial. O ponto central da matriz e a parte externa possuem módulo próximo a zero, dificultando assim a determinação a direção. Sendo assim, esses vetores foram classificados como indeterminados. "
      ]
    },
    {
      "cell_type": "markdown",
      "metadata": {
        "id": "dJQ6PWW_AHwd"
      },
      "source": [
        "# 3. Bessel\n",
        "-----"
      ]
    },
    {
      "cell_type": "code",
      "execution_count": null,
      "metadata": {
        "colab": {
          "base_uri": "https://localhost:8080/",
          "height": 264
        },
        "id": "8otKCauiAHwe",
        "outputId": "f8832971-7bdd-4ede-a435-7bd7ee8b9a12"
      },
      "outputs": [
        {
          "output_type": "display_data",
          "data": {
            "image/png": "[encoded data removed]",
            "text/plain": [
              "<Figure size 432x288 with 1 Axes>"
            ]
          },
          "metadata": {
            "needs_background": "light"
          }
        }
      ],
      "source": [
        "x = np.linspace(-25.0,25.0,32)\n",
        "besselJ01D = special.j0(x)\n",
        "plt.figure()\n",
        "plt.plot(besselJ01D)\n",
        "plt.xlim(0,len(besselJ01D))\n",
        "plt.show()"
      ]
    },
    {
      "cell_type": "code",
      "source": [
        "dx,dy,dz = np.meshgrid(x,x,x)\n",
        "x3D = np.sqrt(dx**2+dy**2+dz**2)\n",
        "\n",
        "besselJ03D =  special.j0(x3D)"
      ],
      "metadata": {
        "id": "a8dZZy-QqcCh"
      },
      "execution_count": null,
      "outputs": []
    },
    {
      "cell_type": "markdown",
      "metadata": {
        "id": "fwQcDhrhAHwe"
      },
      "source": [
        "A célula a seguir aplica o algoritmo de GPA nos três primeiros momentos, tanto para a parte simétrica quanto para a parte assimétrica do padrão. \n",
        "\n",
        "O valor para a medida relacionada a assimetria deve ser nulo, uma vez que não há vetores assimétricos.\n",
        "\n",
        "Diferentemente da PDF normal, os vetores variam de sentido, metade dos vetores simétricos apontam para o centro da matriz e a outra metade aponta para a parte externa da matriz. Sendo assim, $G_3$ é a melhor métrica para distinguir os padrões nesse caso."
      ]
    },
    {
      "cell_type": "code",
      "execution_count": null,
      "metadata": {
        "colab": {
          "base_uri": "https://localhost:8080/"
        },
        "id": "xAiM0wkPAHwe",
        "outputId": "64cd9302-4f0b-4971-875a-655a060630b6"
      },
      "outputs": [
        {
          "output_type": "stream",
          "name": "stdout",
          "text": [
            "Momentos do campo gradiente assimétrico: {'G1': 0.0, 'G1N': 0.0, 'G2': 0.0, 'G3': 0.0, 'G4': 0 + 0*i + 0*j + 0*k}\n",
            "Momentos do campo gradiente simétrico: {'G1': 6.654, 'G1N': 0.878, 'G2': 0.992, 'G3': 0.973, 'G4': 9355.34611753538 + 2.4935609133081e-13*i + (-1.15740750317173e-14)*j + 7.21428125571855e-16*k}\n",
            "Momentos do campo gradiente, exceto vetores indeterminados: {'G1': 6.654, 'G1N': 0.878, 'G2': 0.911, 'G3': 0.973, 'G4': 9355.34611753538 + 2.4935609133081e-13*i + (-1.15740750317173e-14)*j + 7.21428125571855e-16*k}\n",
            "Momentos do campo gradiente completo: {'G1': 6.555, 'G1N': 0.876, 'G2': 1.0, 'G3': 0.971}\n"
          ]
        }
      ],
      "source": [
        "moments = ga(besselJ03D, moment=['G1','G1N','G2','G3','G4'],symmetrycalGrad='A')\n",
        "moments = {key : np.round(moments[key],3) if key !='G4' else moments[key] for key in moments}\n",
        "print(\"Momentos do campo gradiente assimétrico:\",moments)\n",
        "\n",
        "moments = ga(besselJ03D, moment=['G1','G1N','G2','G3','G4'],symmetrycalGrad='S')\n",
        "moments = {key : np.round(moments[key],3) if key !='G4' else moments[key] for key in moments}\n",
        "print(\"Momentos do campo gradiente simétrico:\",moments)\n",
        "\n",
        "moments = ga(besselJ03D, moment=['G1','G1N','G2','G3','G4'],symmetrycalGrad='K')\n",
        "moments = {key : np.round(moments[key],3) if key !='G4' else moments[key] for key in moments}\n",
        "print(\"Momentos do campo gradiente, exceto vetores indeterminados:\",moments)\n",
        "\n",
        "moments = ga(besselJ03D, moment=['G1','G1N','G2','G3'],symmetrycalGrad='F')\n",
        "moments = {key : np.round(moments[key],3) if key !='G4' else moments[key] for key in moments}\n",
        "print(\"Momentos do campo gradiente completo:\",moments)"
      ]
    },
    {
      "cell_type": "markdown",
      "metadata": {
        "id": "r1YppdqFAHwf"
      },
      "source": [
        "# 4. Ruídos coloridos"
      ]
    },
    {
      "cell_type": "code",
      "execution_count": 6,
      "metadata": {
        "id": "3v7vtGDPAHwf"
      },
      "outputs": [],
      "source": [
        "white = cn.powerlaw_psd_gaussian(exponent=0.0, size=(32,32,32))\n",
        "pink = cn.powerlaw_psd_gaussian(exponent=1.0, size=(32,32,32))\n",
        "brown = cn.powerlaw_psd_gaussian(exponent=2.0, size=(32,32,32))"
      ]
    },
    {
      "cell_type": "code",
      "execution_count": 7,
      "metadata": {
        "colab": {
          "base_uri": "https://localhost:8080/"
        },
        "id": "gfescSpEAHwf",
        "outputId": "28eb0f58-4024-4e21-bb7b-16c66e12ca02"
      },
      "outputs": [
        {
          "output_type": "stream",
          "name": "stderr",
          "text": [
            "/usr/local/lib/python3.7/dist-packages/numba/np/ufunc/parallel.py:363: NumbaWarning: The TBB threading layer requires TBB version 2019.5 or later i.e., TBB_INTERFACE_VERSION >= 11005. Found TBB_INTERFACE_VERSION = 9107. The TBB threading layer is disabled.\n",
            "  warnings.warn(problem)\n"
          ]
        },
        {
          "output_type": "stream",
          "name": "stdout",
          "text": [
            "Momentos do campo gradiente assimétrico: {'G1': 6.59, 'G1N': 0.877, 'G2': 0.051, 'G3': 0.589, 'G4': 596.088869428029 + 10.963737684452*i + (-20.3916311579476)*j + (-8.63702555656265e-17)*k}\n",
            "Momentos do campo gradiente simétrico: {'G1': 6.663, 'G1N': 0.878, 'G2': 0.992, 'G3': 0.593, 'G4': 6224.94700719884 + (-9.18105132168848)*i + (-30.2126466554524)*j + (-1.48758356122568e-15)*k}\n",
            "Momentos do campo gradiente, exceto vetores indeterminados: {'G1': 6.672, 'G1N': 0.878, 'G2': 0.97, 'G3': 0.593, 'G4': 6821.03587662687 + 1.78268636276364*i + (-50.6042778134004)*j + (-1.5739538167913e-15)*k}\n",
            "Momentos do campo gradiente completo: {'G1': 6.667, 'G1N': 0.878, 'G2': 1.0, 'G3': 0.593}\n"
          ]
        }
      ],
      "source": [
        "moments = ga(white, moment=['G1','G1N','G2','G3','G4'],symmetrycalGrad='A')\n",
        "moments = {key : np.round(moments[key],3) if key !='G4' else moments[key] for key in moments}\n",
        "print(\"Momentos do campo gradiente assimétrico:\",moments)\n",
        "\n",
        "moments = ga(white, moment=['G1','G1N','G2','G3','G4'],symmetrycalGrad='S')\n",
        "moments = {key : np.round(moments[key],3) if key !='G4' else moments[key] for key in moments}\n",
        "print(\"Momentos do campo gradiente simétrico:\",moments)\n",
        "\n",
        "moments = ga(white, moment=['G1','G1N','G2','G3','G4'],symmetrycalGrad='K')\n",
        "moments = {key : np.round(moments[key],3) if key !='G4' else moments[key] for key in moments}\n",
        "print(\"Momentos do campo gradiente, exceto vetores indeterminados:\",moments)\n",
        "\n",
        "moments = ga(white, moment=['G1','G1N','G2','G3'],symmetrycalGrad='F')\n",
        "moments = {key : np.round(moments[key],3) if key !='G4' else moments[key] for key in moments}\n",
        "print(\"Momentos do campo gradiente completo:\",moments)"
      ]
    },
    {
      "cell_type": "code",
      "execution_count": 8,
      "metadata": {
        "colab": {
          "base_uri": "https://localhost:8080/"
        },
        "id": "YGwA3o6ZAHwg",
        "outputId": "8e3e99cf-6122-4099-9017-3acc7a9e1733"
      },
      "outputs": [
        {
          "output_type": "stream",
          "name": "stdout",
          "text": [
            "Momentos do campo gradiente assimétrico: {'G1': 6.628, 'G1N': 0.877, 'G2': 0.084, 'G3': 0.586, 'G4': 1062.82095322967 + (-18.4368303292476)*i + 2.96045420845516*j + 3.45379378308835e-16*k}\n",
            "Momentos do campo gradiente simétrico: {'G1': 6.62, 'G1N': 0.877, 'G2': 0.991, 'G3': 0.593, 'G4': 6963.41699864687 + (-12.7568733814071)*i + (-45.2960677543498)*j + 1.42543363045164e-15*k}\n",
            "Momentos do campo gradiente, exceto vetores indeterminados: {'G1': 6.628, 'G1N': 0.877, 'G2': 0.982, 'G3': 0.592, 'G4': 8026.23795187655 + (-31.193703710655)*i + (-42.3356135458951)*j + 1.77081300876047e-15*k}\n",
            "Momentos do campo gradiente completo: {'G1': 6.628, 'G1N': 0.877, 'G2': 0.998, 'G3': 0.592}\n"
          ]
        }
      ],
      "source": [
        "moments = ga(pink, moment=['G1','G1N','G2','G3','G4'],symmetrycalGrad='A')\n",
        "moments = {key : np.round(moments[key],3) if key !='G4' else moments[key] for key in moments}\n",
        "print(\"Momentos do campo gradiente assimétrico:\",moments)\n",
        "\n",
        "moments = ga(pink, moment=['G1','G1N','G2','G3','G4'],symmetrycalGrad='S')\n",
        "moments = {key : np.round(moments[key],3) if key !='G4' else moments[key] for key in moments}\n",
        "print(\"Momentos do campo gradiente simétrico:\",moments)\n",
        "\n",
        "moments = ga(pink, moment=['G1','G1N','G2','G3','G4'],symmetrycalGrad='K')\n",
        "moments = {key : np.round(moments[key],3) if key !='G4' else moments[key] for key in moments}\n",
        "print(\"Momentos do campo gradiente, exceto vetores indeterminados:\",moments)\n",
        "\n",
        "moments = ga(pink, moment=['G1','G1N','G2','G3'],symmetrycalGrad='F')\n",
        "moments = {key : np.round(moments[key],3) if key !='G4' else moments[key] for key in moments}\n",
        "print(\"Momentos do campo gradiente completo:\",moments)"
      ]
    },
    {
      "cell_type": "code",
      "execution_count": 9,
      "metadata": {
        "colab": {
          "base_uri": "https://localhost:8080/"
        },
        "id": "HO3bBsMEAHwg",
        "outputId": "60689098-e9b8-4a65-e056-d6eeb4d66fb4"
      },
      "outputs": [
        {
          "output_type": "stream",
          "name": "stdout",
          "text": [
            "Momentos do campo gradiente assimétrico: {'G1': 6.5, 'G1N': 0.875, 'G2': 0.033, 'G3': 0.581, 'G4': 309.4651578522 + 3.9310610674025*i + 23.7221930127942*j + 7.34411446587369e-17*k}\n",
            "Momentos do campo gradiente simétrico: {'G1': 6.6, 'G1N': 0.877, 'G2': 0.991, 'G3': 0.587, 'G4': 5240.15636107439 + (-78.6237308316323)*i + 18.1354671271362*j + 5.94198906454812e-16*k}\n",
            "Momentos do campo gradiente, exceto vetores indeterminados: {'G1': 6.604, 'G1N': 0.877, 'G2': 0.952, 'G3': 0.587, 'G4': 5549.62151892661 + (-74.69266976423)*i + 41.8576601399305*j + 6.67640051113549e-16*k}\n",
            "Momentos do campo gradiente completo: {'G1': 6.598, 'G1N': 0.877, 'G2': 0.996, 'G3': 0.587}\n"
          ]
        }
      ],
      "source": [
        "moments = ga(brown, moment=['G1','G1N','G2','G3','G4'],symmetrycalGrad='A')\n",
        "moments = {key : np.round(moments[key],3) if key !='G4' else moments[key] for key in moments}\n",
        "print(\"Momentos do campo gradiente assimétrico:\",moments)\n",
        "\n",
        "moments = ga(brown, moment=['G1','G1N','G2','G3','G4'],symmetrycalGrad='S')\n",
        "moments = {key : np.round(moments[key],3) if key !='G4' else moments[key] for key in moments}\n",
        "print(\"Momentos do campo gradiente simétrico:\",moments)\n",
        "\n",
        "moments = ga(brown, moment=['G1','G1N','G2','G3','G4'],symmetrycalGrad='K')\n",
        "moments = {key : np.round(moments[key],3) if key !='G4' else moments[key] for key in moments}\n",
        "print(\"Momentos do campo gradiente, exceto vetores indeterminados:\",moments)\n",
        "\n",
        "moments = ga(brown, moment=['G1','G1N','G2','G3'],symmetrycalGrad='F')\n",
        "moments = {key : np.round(moments[key],3) if key !='G4' else moments[key] for key in moments}\n",
        "print(\"Momentos do campo gradiente completo:\",moments)"
      ]
    }
  ],
  "metadata": {
    "colab": {
      "collapsed_sections": [],
      "name": "Standard3D.ipynb",
      "provenance": [],
      "toc_visible": true
    },
    "kernelspec": {
      "display_name": "Python 3",
      "language": "python",
      "name": "python3"
    },
    "language_info": {
      "codemirror_mode": {
        "name": "ipython",
        "version": 3
      },
      "file_extension": ".py",
      "mimetype": "text/x-python",
      "name": "python",
      "nbconvert_exporter": "python",
      "pygments_lexer": "ipython3",
      "version": "3.8.3"
    }
  },
  "nbformat": 4,
  "nbformat_minor": 0
}