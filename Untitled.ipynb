{
 "cells": [
  {
   "cell_type": "code",
   "execution_count": 1,
   "id": "c07b94b2",
   "metadata": {},
   "outputs": [],
   "source": [
    "import GPA3D\n",
    "import numpy as np\n",
    "import matplotlib.pyplot as plt"
   ]
  },
  {
   "cell_type": "code",
   "execution_count": 4,
   "id": "f33b4106",
   "metadata": {},
   "outputs": [
    {
     "data": {
      "text/plain": [
       "{'G1': 1.375, 'G2': 0.5, 'G3': 1.2689488953834087}"
      ]
     },
     "execution_count": 4,
     "metadata": {},
     "output_type": "execute_result"
    }
   ],
   "source": [
    "ga = GPA3D.GPA3D(0.01)\n",
    "#mat = np.arange(0,27).reshape(3,3,3).astype(float)\n",
    "#ga(mat,moment=[\"G1\",\"G2\",\"G3\"])\n",
    "\n",
    "mat = np.arange(0,8).reshape(2,2,2).astype(float)\n",
    "ga(mat,moment=[\"G1\",\"G2\",\"G3\"])"
   ]
  },
  {
   "cell_type": "code",
   "execution_count": 3,
   "id": "aed16277",
   "metadata": {},
   "outputs": [
    {
     "data": {
      "text/plain": [
       "array([[[1, 1, 1],\n",
       "        [1, 1, 1],\n",
       "        [1, 1, 1]],\n",
       "\n",
       "       [[1, 1, 1],\n",
       "        [1, 1, 1],\n",
       "        [1, 1, 1]],\n",
       "\n",
       "       [[1, 1, 1],\n",
       "        [1, 1, 1],\n",
       "        [1, 1, 1]]], dtype=int32)"
      ]
     },
     "execution_count": 3,
     "metadata": {},
     "output_type": "execute_result"
    }
   ],
   "source": [
    "np.array(ga.asymmetricalP)"
   ]
  }
 ],
 "metadata": {
  "kernelspec": {
   "display_name": "Python 3 (ipykernel)",
   "language": "python",
   "name": "python3"
  },
  "language_info": {
   "codemirror_mode": {
    "name": "ipython",
    "version": 3
   },
   "file_extension": ".py",
   "mimetype": "text/x-python",
   "name": "python",
   "nbconvert_exporter": "python",
   "pygments_lexer": "ipython3",
   "version": "3.9.12"
  }
 },
 "nbformat": 4,
 "nbformat_minor": 5
}
